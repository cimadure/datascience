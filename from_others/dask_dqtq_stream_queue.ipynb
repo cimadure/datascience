{
 "cells": [
  {
   "cell_type": "code",
   "execution_count": null,
   "metadata": {},
   "outputs": [],
   "source": [
    "from distributed import Scheduler\n",
    "from tornado.ioloop import IOLoop\n",
    "from threading import Thread\n",
    "\n",
    "loop = IOLoop.current()\n",
    "t = Thread(target=loop.start, daemon=True)\n",
    "t.start()\n",
    "\n",
    "s = Scheduler(loop=loop)\n",
    "s.start('tcp://:8786')   # Listen on TCP port 8786"
   ]
  },
  {
   "cell_type": "code",
   "execution_count": 15,
   "metadata": {},
   "outputs": [
    {
     "data": {
      "text/html": [
       "<table style=\"border: 2px solid white;\">\n",
       "<tr>\n",
       "<td style=\"vertical-align: top; border: 0px solid white\">\n",
       "<h3>Client</h3>\n",
       "<ul>\n",
       "  <li><b>Scheduler: </b>tcp://127.0.0.1:35011\n",
       "  <li><b>Dashboard: </b><a href='http://127.0.0.1:41763' target='_blank'>http://127.0.0.1:41763</a>\n",
       "</ul>\n",
       "</td>\n",
       "<td style=\"vertical-align: top; border: 0px solid white\">\n",
       "<h3>Cluster</h3>\n",
       "<ul>\n",
       "  <li><b>Workers: </b>4</li>\n",
       "  <li><b>Cores: </b>4</li>\n",
       "  <li><b>Memory: </b>4.14 GB</li>\n",
       "</ul>\n",
       "</td>\n",
       "</tr>\n",
       "</table>"
      ],
      "text/plain": [
       "<Client: scheduler='tcp://127.0.0.1:35011' processes=4 cores=4>"
      ]
     },
     "execution_count": 15,
     "metadata": {},
     "output_type": "execute_result"
    }
   ],
   "source": [
    "from dask.distributed import Client\n",
    "client = Client()  # set up local cluster on your laptop\n",
    "client"
   ]
  },
  {
   "cell_type": "code",
   "execution_count": null,
   "metadata": {},
   "outputs": [],
   "source": [
    "from distributed import Client\n",
    "client = Client('127.0.0.1:8786')"
   ]
  },
  {
   "cell_type": "code",
   "execution_count": 10,
   "metadata": {},
   "outputs": [],
   "source": [
    "from time import sleep\n",
    "from random import random\n",
    "\n",
    "def inc(x):\n",
    "    from random import random\n",
    "    sleep(random() * 2)\n",
    "    return x + 1\n",
    "\n",
    "def double(x):\n",
    "    from random import random\n",
    "    sleep(random())\n",
    "    return 2 * x\n"
   ]
  },
  {
   "cell_type": "code",
   "execution_count": 11,
   "metadata": {},
   "outputs": [],
   "source": [
    "from queue import Queue\n",
    "input_q = Queue()\n",
    "remote_q = client.scatter(input_q)\n",
    "inc_q = client.map(inc, remote_q)\n",
    "double_q = client.map(double, inc_q)"
   ]
  },
  {
   "cell_type": "code",
   "execution_count": null,
   "metadata": {},
   "outputs": [],
   "source": [
    "result_q = client.gather(double_q)"
   ]
  },
  {
   "cell_type": "code",
   "execution_count": null,
   "metadata": {},
   "outputs": [],
   "source": [
    "result_q.qsize()"
   ]
  },
  {
   "cell_type": "code",
   "execution_count": null,
   "metadata": {},
   "outputs": [],
   "source": [
    "input_q.put(10)\n",
    "result_q.get()"
   ]
  },
  {
   "cell_type": "code",
   "execution_count": null,
   "metadata": {},
   "outputs": [],
   "source": [
    "def load_data(q):\n",
    "    i = 0\n",
    "    while True:\n",
    "        q.put(i)\n",
    "        sleep(random())\n",
    "        i += 1\n",
    "\n",
    "from threading import Thread\n",
    "load_thread = Thread(target=load_data, args=(input_q,))\n",
    "load_thread.start()"
   ]
  },
  {
   "cell_type": "code",
   "execution_count": null,
   "metadata": {},
   "outputs": [],
   "source": [
    " while True:\n",
    "        item = result_q.get()\n",
    "        print(item)"
   ]
  },
  {
   "cell_type": "code",
   "execution_count": null,
   "metadata": {},
   "outputs": [],
   "source": [
    "from queue import Queue\n",
    "from threading import Thread\n",
    "\n",
    "def multiplex(n, q, **kwargs):\n",
    "    \"\"\" Convert one queue into several equivalent Queues\n",
    "\n",
    "    >>> q1, q2, q3 = multiplex(3, in_q)\n",
    "    \"\"\"\n",
    "    out_queues = [Queue(**kwargs) for i in range(n)]\n",
    "    def f():\n",
    "        while True:\n",
    "            x = q.get()\n",
    "            for out_q in out_queues:\n",
    "                out_q.put(x)\n",
    "    t = Thread(target=f)\n",
    "    t.daemon = True\n",
    "    t.start()\n",
    "    return out_queues\n",
    "\n",
    "def push(in_q, out_q):\n",
    "    while True:\n",
    "        x = in_q.get()\n",
    "        out_q.put(x)\n",
    "\n",
    "def merge(*in_qs, **kwargs):\n",
    "    \"\"\" Merge multiple queues together\n",
    "\n",
    "    >>> out_q = merge(q1, q2, q3)\n",
    "    \"\"\"\n",
    "    out_q = Queue(**kwargs)\n",
    "    threads = [Thread(target=push, args=(q, out_q)) for q in in_qs]\n",
    "    for t in threads:\n",
    "        t.daemon = True\n",
    "        t.start()\n",
    "    return out_q\n"
   ]
  },
  {
   "cell_type": "code",
   "execution_count": null,
   "metadata": {},
   "outputs": [],
   "source": []
  }
 ],
 "metadata": {
  "kernelspec": {
   "display_name": "Python 3",
   "language": "python",
   "name": "python3"
  },
  "language_info": {
   "codemirror_mode": {
    "name": "ipython",
    "version": 3
   },
   "file_extension": ".py",
   "mimetype": "text/x-python",
   "name": "python",
   "nbconvert_exporter": "python",
   "pygments_lexer": "ipython3",
   "version": "3.5.4"
  }
 },
 "nbformat": 4,
 "nbformat_minor": 2
}
