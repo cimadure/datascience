{
 "cells": [
  {
   "cell_type": "code",
   "execution_count": 1,
   "metadata": {},
   "outputs": [
    {
     "name": "stdout",
     "output_type": "stream",
     "text": [
      "{'my7.h5': 'c', 'my24.h5': 'k', 'my1.h5': 't', 'my61.h5': 'x', 'my92.h5': 'b', 'my52.h5': 's', 'my57.h5': 'o', 'my71.h5': 'h', 'my8.h5': 'u'}\n"
     ]
    }
   ],
   "source": [
    "import string, json, random\n",
    "import pandas as pd\n",
    "import numpy as np\n",
    "\n",
    "# dict to keep track of hdf5 filename and each key\n",
    "fileKeys = {}\n",
    "\n",
    "for i in range(10):\n",
    "    # randomly pick letter as dataset key\n",
    "    groupkey = random.choice(list(string.ascii_lowercase))\n",
    "\n",
    "    # randomly pick a number as hdf5 filename\n",
    "    filename = 'my' + str(np.random.randint(100)) + '.h5'\n",
    "\n",
    "    # Make a dataframe; 26 rows, 2 columns\n",
    "    df = pd.DataFrame({'x': np.random.randint(1, 1000, 26),\n",
    "                       'y': np.random.randint(1, 1000, 26)},\n",
    "                       index=list(string.ascii_lowercase))\n",
    "\n",
    "    # Write hdf5 to current directory\n",
    "    df.to_hdf(filename, key='/' + groupkey, format='table')\n",
    "    fileKeys[filename] = groupkey\n",
    "\n",
    "print(fileKeys) # prints hdf5 filenames and keys for each"
   ]
  },
  {
   "cell_type": "code",
   "execution_count": 6,
   "metadata": {},
   "outputs": [
    {
     "name": "stdout",
     "output_type": "stream",
     "text": [
      "Dask DataFrame Structure:\n",
      "                   x      y\n",
      "npartitions=1              \n",
      "               int64  int64\n",
      "                 ...    ...\n",
      "Dask Name: read-hdf, 1 tasks\n"
     ]
    }
   ],
   "source": [
    "import dask.dataframe as dd\n",
    "df = dd.read_hdf('my7.h5', key='/c')\n",
    "print(df)"
   ]
  },
  {
   "cell_type": "code",
   "execution_count": 7,
   "metadata": {},
   "outputs": [
    {
     "name": "stdout",
     "output_type": "stream",
     "text": [
      "Dask DataFrame Structure:\n",
      "                   x      y\n",
      "npartitions=1              \n",
      "               int64  int64\n",
      "                 ...    ...\n",
      "Dask Name: read-hdf, 1 tasks\n"
     ]
    }
   ],
   "source": [
    "import dask.dataframe as dd\n",
    "df = dd.read_hdf('my52.h5', key='/*')\n",
    "print(df)"
   ]
  },
  {
   "cell_type": "code",
   "execution_count": null,
   "metadata": {},
   "outputs": [],
   "source": []
  }
 ],
 "metadata": {
  "kernelspec": {
   "display_name": "Python 3",
   "language": "python",
   "name": "python3"
  },
  "language_info": {
   "codemirror_mode": {
    "name": "ipython",
    "version": 3
   },
   "file_extension": ".py",
   "mimetype": "text/x-python",
   "name": "python",
   "nbconvert_exporter": "python",
   "pygments_lexer": "ipython3",
   "version": "3.5.4"
  }
 },
 "nbformat": 4,
 "nbformat_minor": 1
}
